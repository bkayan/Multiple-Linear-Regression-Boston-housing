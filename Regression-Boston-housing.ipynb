{
 "cells": [
  {
   "cell_type": "markdown",
   "metadata": {},
   "source": [
    "Import statsmodels for linear regression and padas to read the data"
   ]
  },
  {
   "cell_type": "code",
   "execution_count": 1,
   "metadata": {},
   "outputs": [],
   "source": [
    "import statsmodels.api as sm\n",
    "import pandas as pd"
   ]
  },
  {
   "cell_type": "markdown",
   "metadata": {},
   "source": [
    "create dataframe using pandas"
   ]
  },
  {
   "cell_type": "code",
   "execution_count": 2,
   "metadata": {},
   "outputs": [],
   "source": [
    "df=pd.read_csv('boston.csv')"
   ]
  },
  {
   "cell_type": "markdown",
   "metadata": {},
   "source": [
    "reading first 5 rows of the data frame"
   ]
  },
  {
   "cell_type": "code",
   "execution_count": 4,
   "metadata": {},
   "outputs": [
    {
     "data": {
      "text/html": [
       "<div>\n",
       "<style scoped>\n",
       "    .dataframe tbody tr th:only-of-type {\n",
       "        vertical-align: middle;\n",
       "    }\n",
       "\n",
       "    .dataframe tbody tr th {\n",
       "        vertical-align: top;\n",
       "    }\n",
       "\n",
       "    .dataframe thead th {\n",
       "        text-align: right;\n",
       "    }\n",
       "</style>\n",
       "<table border=\"1\" class=\"dataframe\">\n",
       "  <thead>\n",
       "    <tr style=\"text-align: right;\">\n",
       "      <th></th>\n",
       "      <th>CRIM</th>\n",
       "      <th>INDUS</th>\n",
       "      <th>NOX</th>\n",
       "      <th>RM</th>\n",
       "      <th>AGE</th>\n",
       "      <th>DIS</th>\n",
       "      <th>TAX</th>\n",
       "      <th>PT</th>\n",
       "      <th>B</th>\n",
       "      <th>MV</th>\n",
       "    </tr>\n",
       "  </thead>\n",
       "  <tbody>\n",
       "    <tr>\n",
       "      <th>0</th>\n",
       "      <td>0.00632</td>\n",
       "      <td>2.31</td>\n",
       "      <td>0.538</td>\n",
       "      <td>6.575</td>\n",
       "      <td>65.199997</td>\n",
       "      <td>4.0900</td>\n",
       "      <td>296</td>\n",
       "      <td>15.300000</td>\n",
       "      <td>396.899994</td>\n",
       "      <td>24.000000</td>\n",
       "    </tr>\n",
       "    <tr>\n",
       "      <th>1</th>\n",
       "      <td>0.02731</td>\n",
       "      <td>7.07</td>\n",
       "      <td>0.469</td>\n",
       "      <td>6.421</td>\n",
       "      <td>78.900002</td>\n",
       "      <td>4.9671</td>\n",
       "      <td>242</td>\n",
       "      <td>17.799999</td>\n",
       "      <td>396.899994</td>\n",
       "      <td>21.600000</td>\n",
       "    </tr>\n",
       "    <tr>\n",
       "      <th>2</th>\n",
       "      <td>0.02729</td>\n",
       "      <td>7.07</td>\n",
       "      <td>0.469</td>\n",
       "      <td>7.185</td>\n",
       "      <td>61.099998</td>\n",
       "      <td>4.9671</td>\n",
       "      <td>242</td>\n",
       "      <td>17.799999</td>\n",
       "      <td>392.829987</td>\n",
       "      <td>34.700001</td>\n",
       "    </tr>\n",
       "    <tr>\n",
       "      <th>3</th>\n",
       "      <td>0.03237</td>\n",
       "      <td>2.18</td>\n",
       "      <td>0.458</td>\n",
       "      <td>6.998</td>\n",
       "      <td>45.799999</td>\n",
       "      <td>6.0622</td>\n",
       "      <td>222</td>\n",
       "      <td>18.700001</td>\n",
       "      <td>394.630005</td>\n",
       "      <td>33.400002</td>\n",
       "    </tr>\n",
       "    <tr>\n",
       "      <th>4</th>\n",
       "      <td>0.06905</td>\n",
       "      <td>2.18</td>\n",
       "      <td>0.458</td>\n",
       "      <td>7.147</td>\n",
       "      <td>54.200001</td>\n",
       "      <td>6.0622</td>\n",
       "      <td>222</td>\n",
       "      <td>18.700001</td>\n",
       "      <td>396.899994</td>\n",
       "      <td>36.200001</td>\n",
       "    </tr>\n",
       "  </tbody>\n",
       "</table>\n",
       "</div>"
      ],
      "text/plain": [
       "      CRIM  INDUS    NOX     RM        AGE     DIS  TAX         PT  \\\n",
       "0  0.00632   2.31  0.538  6.575  65.199997  4.0900  296  15.300000   \n",
       "1  0.02731   7.07  0.469  6.421  78.900002  4.9671  242  17.799999   \n",
       "2  0.02729   7.07  0.469  7.185  61.099998  4.9671  242  17.799999   \n",
       "3  0.03237   2.18  0.458  6.998  45.799999  6.0622  222  18.700001   \n",
       "4  0.06905   2.18  0.458  7.147  54.200001  6.0622  222  18.700001   \n",
       "\n",
       "            B         MV  \n",
       "0  396.899994  24.000000  \n",
       "1  396.899994  21.600000  \n",
       "2  392.829987  34.700001  \n",
       "3  394.630005  33.400002  \n",
       "4  396.899994  36.200001  "
      ]
     },
     "execution_count": 4,
     "metadata": {},
     "output_type": "execute_result"
    }
   ],
   "source": [
    "df.head()"
   ]
  },
  {
   "cell_type": "markdown",
   "metadata": {},
   "source": [
    "There are 506 rows and 10 columns in the dataset"
   ]
  },
  {
   "cell_type": "code",
   "execution_count": 5,
   "metadata": {},
   "outputs": [
    {
     "data": {
      "text/plain": [
       "(506, 10)"
      ]
     },
     "execution_count": 5,
     "metadata": {},
     "output_type": "execute_result"
    }
   ],
   "source": [
    "df.shape"
   ]
  },
  {
   "cell_type": "markdown",
   "metadata": {},
   "source": [
    "Using sklearn to divid data into train and test set"
   ]
  },
  {
   "cell_type": "code",
   "execution_count": 6,
   "metadata": {},
   "outputs": [],
   "source": [
    "from sklearn.model_selection import train_test_split"
   ]
  },
  {
   "cell_type": "code",
   "execution_count": 7,
   "metadata": {},
   "outputs": [],
   "source": [
    "X_train,X_test,Y_train,Y_test = train_test_split(df.drop('MV',axis=1),df['MV'],test_size=0.2,random_state=111)"
   ]
  },
  {
   "cell_type": "markdown",
   "metadata": {},
   "source": [
    "Add constant to the training data (X_train)"
   ]
  },
  {
   "cell_type": "code",
   "execution_count": 8,
   "metadata": {},
   "outputs": [],
   "source": [
    "X_train=sm.add_constant(X_train)"
   ]
  },
  {
   "cell_type": "markdown",
   "metadata": {},
   "source": [
    "Fit the OLS model"
   ]
  },
  {
   "cell_type": "code",
   "execution_count": 9,
   "metadata": {},
   "outputs": [],
   "source": [
    "model=sm.OLS(Y_train,X_train)"
   ]
  },
  {
   "cell_type": "code",
   "execution_count": 10,
   "metadata": {},
   "outputs": [],
   "source": [
    "result=model.fit()"
   ]
  },
  {
   "cell_type": "markdown",
   "metadata": {},
   "source": [
    "Print model result/summary"
   ]
  },
  {
   "cell_type": "code",
   "execution_count": 11,
   "metadata": {},
   "outputs": [
    {
     "name": "stdout",
     "output_type": "stream",
     "text": [
      "                            OLS Regression Results                            \n",
      "==============================================================================\n",
      "Dep. Variable:                     MV   R-squared:                       0.663\n",
      "Model:                            OLS   Adj. R-squared:                  0.655\n",
      "Method:                 Least Squares   F-statistic:                     86.16\n",
      "Date:                Thu, 14 Mar 2019   Prob (F-statistic):           1.91e-87\n",
      "Time:                        21:41:08   Log-Likelihood:                -1245.4\n",
      "No. Observations:                 404   AIC:                             2511.\n",
      "Df Residuals:                     394   BIC:                             2551.\n",
      "Df Model:                           9                                         \n",
      "Covariance Type:            nonrobust                                         \n",
      "==============================================================================\n",
      "                 coef    std err          t      P>|t|      [0.025      0.975]\n",
      "------------------------------------------------------------------------------\n",
      "const         11.3200      5.980      1.893      0.059      -0.437      23.077\n",
      "CRIM          -0.0782      0.048     -1.628      0.104      -0.173       0.016\n",
      "INDUS         -0.0706      0.076     -0.929      0.353      -0.220       0.079\n",
      "NOX          -15.2996      4.835     -3.164      0.002     -24.805      -5.794\n",
      "RM             6.8187      0.442     15.419      0.000       5.949       7.688\n",
      "AGE           -0.0573      0.015     -3.735      0.000      -0.087      -0.027\n",
      "DIS           -1.2175      0.226     -5.396      0.000      -1.661      -0.774\n",
      "TAX            0.0003      0.003      0.093      0.926      -0.006       0.006\n",
      "PT            -1.0397      0.155     -6.687      0.000      -1.345      -0.734\n",
      "B              0.0153      0.003      4.433      0.000       0.009       0.022\n",
      "==============================================================================\n",
      "Omnibus:                      264.148   Durbin-Watson:                   2.083\n",
      "Prob(Omnibus):                  0.000   Jarque-Bera (JB):             3760.988\n",
      "Skew:                           2.556   Prob(JB):                         0.00\n",
      "Kurtosis:                      17.046   Cond. No.                     1.45e+04\n",
      "==============================================================================\n",
      "\n",
      "Warnings:\n",
      "[1] Standard Errors assume that the covariance matrix of the errors is correctly specified.\n",
      "[2] The condition number is large, 1.45e+04. This might indicate that there are\n",
      "strong multicollinearity or other numerical problems.\n"
     ]
    }
   ],
   "source": [
    "print(result.summary())"
   ]
  },
  {
   "cell_type": "markdown",
   "metadata": {},
   "source": [
    "- From the model, the parameter fro CRIM (CRIM per capita crime rate by town), INDUS (INDUS proportion of non-retail business acres per town), and TAX(TAX full-value property-tax rate per $10,000) are not significantly different from zero at 5 percent significance level. \n",
    "-Hence we are going to drop predictor with the highest P value, and re-run model."
   ]
  },
  {
   "cell_type": "markdown",
   "metadata": {},
   "source": [
    "We going to drop TAX variable to predict MV"
   ]
  },
  {
   "cell_type": "code",
   "execution_count": 12,
   "metadata": {},
   "outputs": [],
   "source": [
    "X_train=X_train.drop(['TAX'], axis=1)"
   ]
  },
  {
   "cell_type": "markdown",
   "metadata": {},
   "source": [
    "Fit the updated model"
   ]
  },
  {
   "cell_type": "code",
   "execution_count": 13,
   "metadata": {},
   "outputs": [],
   "source": [
    "updated_model_result = sm.OLS(Y_train,X_train).fit()"
   ]
  },
  {
   "cell_type": "code",
   "execution_count": 14,
   "metadata": {},
   "outputs": [
    {
     "name": "stdout",
     "output_type": "stream",
     "text": [
      "                            OLS Regression Results                            \n",
      "==============================================================================\n",
      "Dep. Variable:                     MV   R-squared:                       0.663\n",
      "Model:                            OLS   Adj. R-squared:                  0.656\n",
      "Method:                 Least Squares   F-statistic:                     97.17\n",
      "Date:                Thu, 14 Mar 2019   Prob (F-statistic):           1.89e-88\n",
      "Time:                        21:43:38   Log-Likelihood:                -1245.5\n",
      "No. Observations:                 404   AIC:                             2509.\n",
      "Df Residuals:                     395   BIC:                             2545.\n",
      "Df Model:                           8                                         \n",
      "Covariance Type:            nonrobust                                         \n",
      "==============================================================================\n",
      "                 coef    std err          t      P>|t|      [0.025      0.975]\n",
      "------------------------------------------------------------------------------\n",
      "const         11.1972      5.825      1.922      0.055      -0.255      22.650\n",
      "CRIM          -0.0764      0.044     -1.734      0.084      -0.163       0.010\n",
      "INDUS         -0.0676      0.069     -0.980      0.328      -0.203       0.068\n",
      "NOX          -15.1625      4.600     -3.296      0.001     -24.206      -6.119\n",
      "RM             6.8252      0.436     15.646      0.000       5.968       7.683\n",
      "AGE           -0.0574      0.015     -3.766      0.000      -0.087      -0.027\n",
      "DIS           -1.2146      0.223     -5.441      0.000      -1.654      -0.776\n",
      "PT            -1.0349      0.146     -7.065      0.000      -1.323      -0.747\n",
      "B              0.0153      0.003      4.445      0.000       0.009       0.022\n",
      "==============================================================================\n",
      "Omnibus:                      265.058   Durbin-Watson:                   2.082\n",
      "Prob(Omnibus):                  0.000   Jarque-Bera (JB):             3796.824\n",
      "Skew:                           2.567   Prob(JB):                         0.00\n",
      "Kurtosis:                      17.114   Cond. No.                     9.31e+03\n",
      "==============================================================================\n",
      "\n",
      "Warnings:\n",
      "[1] Standard Errors assume that the covariance matrix of the errors is correctly specified.\n",
      "[2] The condition number is large, 9.31e+03. This might indicate that there are\n",
      "strong multicollinearity or other numerical problems.\n"
     ]
    }
   ],
   "source": [
    "print(updated_model_result.summary())"
   ]
  },
  {
   "cell_type": "markdown",
   "metadata": {},
   "source": [
    "Predictors CRIM and INDUS still have a high P value in the updated model. The parameter fro CRIM and INDUS are not significantly different from zero at 5% significane level. We are going to drop INDUS and re-run the model again since it has the highest P value"
   ]
  },
  {
   "cell_type": "code",
   "execution_count": 15,
   "metadata": {},
   "outputs": [],
   "source": [
    "X_train=X_train.drop(['INDUS'], axis=1)"
   ]
  },
  {
   "cell_type": "markdown",
   "metadata": {},
   "source": [
    "Fit the updated model"
   ]
  },
  {
   "cell_type": "code",
   "execution_count": 16,
   "metadata": {},
   "outputs": [],
   "source": [
    "updated_model_result2 = sm.OLS(Y_train,X_train).fit()"
   ]
  },
  {
   "cell_type": "code",
   "execution_count": 17,
   "metadata": {},
   "outputs": [
    {
     "name": "stdout",
     "output_type": "stream",
     "text": [
      "                            OLS Regression Results                            \n",
      "==============================================================================\n",
      "Dep. Variable:                     MV   R-squared:                       0.662\n",
      "Model:                            OLS   Adj. R-squared:                  0.656\n",
      "Method:                 Least Squares   F-statistic:                     110.9\n",
      "Date:                Thu, 14 Mar 2019   Prob (F-statistic):           2.78e-89\n",
      "Time:                        21:46:13   Log-Likelihood:                -1245.9\n",
      "No. Observations:                 404   AIC:                             2508.\n",
      "Df Residuals:                     396   BIC:                             2540.\n",
      "Df Model:                           7                                         \n",
      "Covariance Type:            nonrobust                                         \n",
      "==============================================================================\n",
      "                 coef    std err          t      P>|t|      [0.025      0.975]\n",
      "------------------------------------------------------------------------------\n",
      "const         11.4237      5.821      1.963      0.050      -0.019      22.867\n",
      "CRIM          -0.0764      0.044     -1.734      0.084      -0.163       0.010\n",
      "NOX          -17.0351      4.184     -4.072      0.000     -25.261      -8.810\n",
      "RM             6.9067      0.428     16.129      0.000       6.065       7.749\n",
      "AGE           -0.0581      0.015     -3.820      0.000      -0.088      -0.028\n",
      "DIS           -1.1619      0.217     -5.363      0.000      -1.588      -0.736\n",
      "PT            -1.0724      0.141     -7.585      0.000      -1.350      -0.794\n",
      "B              0.0155      0.003      4.530      0.000       0.009       0.022\n",
      "==============================================================================\n",
      "Omnibus:                      262.633   Durbin-Watson:                   2.075\n",
      "Prob(Omnibus):                  0.000   Jarque-Bera (JB):             3717.206\n",
      "Skew:                           2.538   Prob(JB):                         0.00\n",
      "Kurtosis:                      16.966   Cond. No.                     9.15e+03\n",
      "==============================================================================\n",
      "\n",
      "Warnings:\n",
      "[1] Standard Errors assume that the covariance matrix of the errors is correctly specified.\n",
      "[2] The condition number is large, 9.15e+03. This might indicate that there are\n",
      "strong multicollinearity or other numerical problems.\n"
     ]
    }
   ],
   "source": [
    "print(updated_model_result2.summary())"
   ]
  },
  {
   "cell_type": "markdown",
   "metadata": {},
   "source": [
    "The parameter fro CRIM is not significantly different from zero at 5% significane level. We are going to drop CRIM and re-run the model."
   ]
  },
  {
   "cell_type": "code",
   "execution_count": 18,
   "metadata": {},
   "outputs": [],
   "source": [
    "X_train=X_train.drop(['CRIM'], axis=1)"
   ]
  },
  {
   "cell_type": "markdown",
   "metadata": {},
   "source": [
    "Fit the updated model"
   ]
  },
  {
   "cell_type": "code",
   "execution_count": 19,
   "metadata": {},
   "outputs": [],
   "source": [
    "updated_model_result3 = sm.OLS(Y_train,X_train).fit()"
   ]
  },
  {
   "cell_type": "code",
   "execution_count": 20,
   "metadata": {},
   "outputs": [
    {
     "name": "stdout",
     "output_type": "stream",
     "text": [
      "                            OLS Regression Results                            \n",
      "==============================================================================\n",
      "Dep. Variable:                     MV   R-squared:                       0.660\n",
      "Model:                            OLS   Adj. R-squared:                  0.655\n",
      "Method:                 Least Squares   F-statistic:                     128.3\n",
      "Date:                Thu, 14 Mar 2019   Prob (F-statistic):           1.04e-89\n",
      "Time:                        21:48:52   Log-Likelihood:                -1247.5\n",
      "No. Observations:                 404   AIC:                             2509.\n",
      "Df Residuals:                     397   BIC:                             2537.\n",
      "Df Model:                           6                                         \n",
      "Covariance Type:            nonrobust                                         \n",
      "==============================================================================\n",
      "                 coef    std err          t      P>|t|      [0.025      0.975]\n",
      "------------------------------------------------------------------------------\n",
      "const         11.1788      5.833      1.916      0.056      -0.290      22.647\n",
      "NOX          -18.0779      4.151     -4.355      0.000     -26.239      -9.917\n",
      "RM             6.9797      0.427     16.338      0.000       6.140       7.820\n",
      "AGE           -0.0583      0.015     -3.818      0.000      -0.088      -0.028\n",
      "DIS           -1.1377      0.217     -5.250      0.000      -1.564      -0.712\n",
      "PT            -1.1126      0.140     -7.958      0.000      -1.387      -0.838\n",
      "B              0.0177      0.003      5.507      0.000       0.011       0.024\n",
      "==============================================================================\n",
      "Omnibus:                      256.177   Durbin-Watson:                   2.073\n",
      "Prob(Omnibus):                  0.000   Jarque-Bera (JB):             3601.900\n",
      "Skew:                           2.452   Prob(JB):                         0.00\n",
      "Kurtosis:                      16.781   Cond. No.                     9.15e+03\n",
      "==============================================================================\n",
      "\n",
      "Warnings:\n",
      "[1] Standard Errors assume that the covariance matrix of the errors is correctly specified.\n",
      "[2] The condition number is large, 9.15e+03. This might indicate that there are\n",
      "strong multicollinearity or other numerical problems.\n"
     ]
    }
   ],
   "source": [
    "print(updated_model_result3.summary())"
   ]
  },
  {
   "cell_type": "markdown",
   "metadata": {},
   "source": [
    "The R-squared value has slighjtly decreased from .663 to .660 and Adjusted R-squared remain the same at 0.655"
   ]
  },
  {
   "cell_type": "markdown",
   "metadata": {},
   "source": [
    "Import sklearn.metrics to see model's accurancy"
   ]
  },
  {
   "cell_type": "code",
   "execution_count": 21,
   "metadata": {},
   "outputs": [],
   "source": [
    "from sklearn.metrics import r2_score"
   ]
  },
  {
   "cell_type": "markdown",
   "metadata": {},
   "source": [
    "Drop the three variables in the X_test as X_train"
   ]
  },
  {
   "cell_type": "code",
   "execution_count": 22,
   "metadata": {},
   "outputs": [],
   "source": [
    "X_test=X_test.drop(['CRIM','INDUS','TAX'], axis=1)"
   ]
  },
  {
   "cell_type": "markdown",
   "metadata": {},
   "source": [
    "Make preduction on the test set"
   ]
  },
  {
   "cell_type": "code",
   "execution_count": 24,
   "metadata": {},
   "outputs": [],
   "source": [
    "predictions = updated_model_result3.predict(sm.add_constant(X_test))"
   ]
  },
  {
   "cell_type": "markdown",
   "metadata": {},
   "source": [
    "Check R-squared value"
   ]
  },
  {
   "cell_type": "code",
   "execution_count": 25,
   "metadata": {},
   "outputs": [
    {
     "data": {
      "text/plain": [
       "0.621648074202985"
      ]
     },
     "execution_count": 25,
     "metadata": {},
     "output_type": "execute_result"
    }
   ],
   "source": [
    "r2_score(Y_test, predictions)"
   ]
  },
  {
   "cell_type": "markdown",
   "metadata": {},
   "source": [
    "Checking sample values from the actual and predictions"
   ]
  },
  {
   "cell_type": "code",
   "execution_count": 28,
   "metadata": {},
   "outputs": [
    {
     "data": {
      "text/html": [
       "<div>\n",
       "<style scoped>\n",
       "    .dataframe tbody tr th:only-of-type {\n",
       "        vertical-align: middle;\n",
       "    }\n",
       "\n",
       "    .dataframe tbody tr th {\n",
       "        vertical-align: top;\n",
       "    }\n",
       "\n",
       "    .dataframe thead th {\n",
       "        text-align: right;\n",
       "    }\n",
       "</style>\n",
       "<table border=\"1\" class=\"dataframe\">\n",
       "  <thead>\n",
       "    <tr style=\"text-align: right;\">\n",
       "      <th></th>\n",
       "      <th>actual value</th>\n",
       "      <th>predictions</th>\n",
       "    </tr>\n",
       "  </thead>\n",
       "  <tbody>\n",
       "    <tr>\n",
       "      <th>497</th>\n",
       "      <td>18.299999</td>\n",
       "      <td>19.291337</td>\n",
       "    </tr>\n",
       "    <tr>\n",
       "      <th>250</th>\n",
       "      <td>24.400000</td>\n",
       "      <td>25.243696</td>\n",
       "    </tr>\n",
       "    <tr>\n",
       "      <th>385</th>\n",
       "      <td>7.200000</td>\n",
       "      <td>12.557819</td>\n",
       "    </tr>\n",
       "    <tr>\n",
       "      <th>405</th>\n",
       "      <td>5.000000</td>\n",
       "      <td>15.197410</td>\n",
       "    </tr>\n",
       "    <tr>\n",
       "      <th>107</th>\n",
       "      <td>20.400000</td>\n",
       "      <td>20.762280</td>\n",
       "    </tr>\n",
       "    <tr>\n",
       "      <th>146</th>\n",
       "      <td>15.600000</td>\n",
       "      <td>13.799426</td>\n",
       "    </tr>\n",
       "    <tr>\n",
       "      <th>149</th>\n",
       "      <td>15.400000</td>\n",
       "      <td>17.096466</td>\n",
       "    </tr>\n",
       "    <tr>\n",
       "      <th>409</th>\n",
       "      <td>27.500000</td>\n",
       "      <td>21.412902</td>\n",
       "    </tr>\n",
       "    <tr>\n",
       "      <th>286</th>\n",
       "      <td>20.100000</td>\n",
       "      <td>21.313205</td>\n",
       "    </tr>\n",
       "    <tr>\n",
       "      <th>39</th>\n",
       "      <td>30.799999</td>\n",
       "      <td>28.688188</td>\n",
       "    </tr>\n",
       "  </tbody>\n",
       "</table>\n",
       "</div>"
      ],
      "text/plain": [
       "     actual value  predictions\n",
       "497     18.299999    19.291337\n",
       "250     24.400000    25.243696\n",
       "385      7.200000    12.557819\n",
       "405      5.000000    15.197410\n",
       "107     20.400000    20.762280\n",
       "146     15.600000    13.799426\n",
       "149     15.400000    17.096466\n",
       "409     27.500000    21.412902\n",
       "286     20.100000    21.313205\n",
       "39      30.799999    28.688188"
      ]
     },
     "execution_count": 28,
     "metadata": {},
     "output_type": "execute_result"
    }
   ],
   "source": [
    "pd.DataFrame({'actual value': Y_test, 'predictions':predictions}).sample(10)"
   ]
  }
 ],
 "metadata": {
  "kernelspec": {
   "display_name": "Python 3",
   "language": "python",
   "name": "python3"
  },
  "language_info": {
   "codemirror_mode": {
    "name": "ipython",
    "version": 3
   },
   "file_extension": ".py",
   "mimetype": "text/x-python",
   "name": "python",
   "nbconvert_exporter": "python",
   "pygments_lexer": "ipython3",
   "version": "3.7.1"
  }
 },
 "nbformat": 4,
 "nbformat_minor": 2
}
